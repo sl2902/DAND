{
 "cells": [
  {
   "cell_type": "markdown",
   "metadata": {},
   "source": [
    "# Stroop Effect\n",
    "\n",
    "Background Information\n",
    "\n",
    "In a Stroop task, participants are presented with a list of words, with each word displayed in a color of ink. The participant’s task is to say out loud the color of the ink in which the word is printed. The task has two conditions: a congruent words condition, and an incongruent words condition. In the congruent words condition, the words being displayed are color words whose names match the colors in which they are printed: for example RED, BLUE. In the incongruent words condition, the words displayed are color words whose names do not match the colors in which they are printed: for example PURPLE, ORANGE. In each case, we measure the time it takes to name the ink colors in equally-sized lists. Each participant will go through and record a time from each condition.\n",
    "\n",
    "[Link](https://docs.google.com/document/d/1-OkpZLjG_kX9J6LIQ5IltsqMzVWjh36QpnP2RYpVdPU/pub?embedded=True)"
   ]
  },
  {
   "cell_type": "markdown",
   "metadata": {},
   "source": [
    "### What is the dependent variable?"
   ]
  },
  {
   "cell_type": "markdown",
   "metadata": {},
   "source": [
    "The time in seconds that it takes to name the ink colours in equally-sized lists"
   ]
  },
  {
   "cell_type": "markdown",
   "metadata": {},
   "source": [
    "### What is the independent variable?"
   ]
  },
  {
   "cell_type": "markdown",
   "metadata": {},
   "source": [
    "The 2 conditions: 1) A congruent words condition. 2) An incongruent words condition"
   ]
  },
  {
   "cell_type": "markdown",
   "metadata": {},
   "source": [
    "### What is the treatment variable?"
   ]
  },
  {
   "cell_type": "markdown",
   "metadata": {},
   "source": [
    "There is none in this experiment"
   ]
  },
  {
   "cell_type": "markdown",
   "metadata": {},
   "source": [
    "### Define the Null and alternative hypothesis"
   ]
  },
  {
   "cell_type": "markdown",
   "metadata": {},
   "source": [
    "$$H_0: \\mu_{congruent} = \\mu_{incongruent}$$\n",
    "    \n",
    "$$H_A: \\mu_{congruent} \\neq \\mu_{incongurent}$$  \n",
    "\n",
    "The null hypothesis is that there is no difference in population means (measured in seconds), of the congruent and incongruent words condition, taken to complete the tasks. i. e $$ H_0: \\mu_{congruent} - \\mu_{incongruent} = 0$$\n",
    "The alternative hypothesis is that there is a significant difference in population means (measured in seconds), of the congruent and incongruent words condition, taken to complete the tasks"
   ]
  },
  {
   "cell_type": "markdown",
   "metadata": {},
   "source": [
    "### What is the type of test to perform on the samples?"
   ]
  },
  {
   "cell_type": "markdown",
   "metadata": {},
   "source": [
    "A dependent t-test (two tailed) for paired samples; this is because the same participant is subjected to 2 tasks: A congruent task. and, 2) An incongruent task.\n",
    "\n",
    "Some assumptions made to support this choice of test\n",
    "\n",
    "1) We are working with only a small subset of sample data<br>\n",
    "2) It is assumed that this samples are drawn from a population that is normally distributed<br>\n",
    "3) Population parameters such as population mean and variance are unknown"
   ]
  },
  {
   "cell_type": "markdown",
   "metadata": {},
   "source": [
    "### Descriptive statistics"
   ]
  },
  {
   "cell_type": "code",
   "execution_count": 21,
   "metadata": {
    "collapsed": false
   },
   "outputs": [
    {
     "data": {
      "text/html": [
       "<div>\n",
       "<table border=\"1\" class=\"dataframe\">\n",
       "  <thead>\n",
       "    <tr style=\"text-align: right;\">\n",
       "      <th></th>\n",
       "      <th>Congruent</th>\n",
       "      <th>Incongruent</th>\n",
       "    </tr>\n",
       "  </thead>\n",
       "  <tbody>\n",
       "    <tr>\n",
       "      <th>0</th>\n",
       "      <td>12.079</td>\n",
       "      <td>19.278</td>\n",
       "    </tr>\n",
       "    <tr>\n",
       "      <th>1</th>\n",
       "      <td>16.791</td>\n",
       "      <td>18.741</td>\n",
       "    </tr>\n",
       "    <tr>\n",
       "      <th>2</th>\n",
       "      <td>9.564</td>\n",
       "      <td>21.214</td>\n",
       "    </tr>\n",
       "    <tr>\n",
       "      <th>3</th>\n",
       "      <td>8.630</td>\n",
       "      <td>15.687</td>\n",
       "    </tr>\n",
       "    <tr>\n",
       "      <th>4</th>\n",
       "      <td>14.669</td>\n",
       "      <td>22.803</td>\n",
       "    </tr>\n",
       "    <tr>\n",
       "      <th>5</th>\n",
       "      <td>12.238</td>\n",
       "      <td>20.878</td>\n",
       "    </tr>\n",
       "    <tr>\n",
       "      <th>6</th>\n",
       "      <td>14.692</td>\n",
       "      <td>24.572</td>\n",
       "    </tr>\n",
       "    <tr>\n",
       "      <th>7</th>\n",
       "      <td>8.987</td>\n",
       "      <td>17.394</td>\n",
       "    </tr>\n",
       "    <tr>\n",
       "      <th>8</th>\n",
       "      <td>9.401</td>\n",
       "      <td>20.762</td>\n",
       "    </tr>\n",
       "    <tr>\n",
       "      <th>9</th>\n",
       "      <td>14.480</td>\n",
       "      <td>26.282</td>\n",
       "    </tr>\n",
       "    <tr>\n",
       "      <th>10</th>\n",
       "      <td>22.328</td>\n",
       "      <td>24.524</td>\n",
       "    </tr>\n",
       "    <tr>\n",
       "      <th>11</th>\n",
       "      <td>15.298</td>\n",
       "      <td>18.644</td>\n",
       "    </tr>\n",
       "    <tr>\n",
       "      <th>12</th>\n",
       "      <td>15.073</td>\n",
       "      <td>17.510</td>\n",
       "    </tr>\n",
       "    <tr>\n",
       "      <th>13</th>\n",
       "      <td>16.929</td>\n",
       "      <td>20.330</td>\n",
       "    </tr>\n",
       "    <tr>\n",
       "      <th>14</th>\n",
       "      <td>18.200</td>\n",
       "      <td>35.255</td>\n",
       "    </tr>\n",
       "    <tr>\n",
       "      <th>15</th>\n",
       "      <td>12.130</td>\n",
       "      <td>22.158</td>\n",
       "    </tr>\n",
       "    <tr>\n",
       "      <th>16</th>\n",
       "      <td>18.495</td>\n",
       "      <td>25.139</td>\n",
       "    </tr>\n",
       "    <tr>\n",
       "      <th>17</th>\n",
       "      <td>10.639</td>\n",
       "      <td>20.429</td>\n",
       "    </tr>\n",
       "    <tr>\n",
       "      <th>18</th>\n",
       "      <td>11.344</td>\n",
       "      <td>17.425</td>\n",
       "    </tr>\n",
       "    <tr>\n",
       "      <th>19</th>\n",
       "      <td>12.369</td>\n",
       "      <td>34.288</td>\n",
       "    </tr>\n",
       "    <tr>\n",
       "      <th>20</th>\n",
       "      <td>12.944</td>\n",
       "      <td>23.894</td>\n",
       "    </tr>\n",
       "    <tr>\n",
       "      <th>21</th>\n",
       "      <td>14.233</td>\n",
       "      <td>17.960</td>\n",
       "    </tr>\n",
       "    <tr>\n",
       "      <th>22</th>\n",
       "      <td>19.710</td>\n",
       "      <td>22.058</td>\n",
       "    </tr>\n",
       "    <tr>\n",
       "      <th>23</th>\n",
       "      <td>16.004</td>\n",
       "      <td>21.157</td>\n",
       "    </tr>\n",
       "    <tr>\n",
       "      <th>24</th>\n",
       "      <td>17.563</td>\n",
       "      <td>28.881</td>\n",
       "    </tr>\n",
       "  </tbody>\n",
       "</table>\n",
       "</div>"
      ],
      "text/plain": [
       "    Congruent  Incongruent\n",
       "0      12.079       19.278\n",
       "1      16.791       18.741\n",
       "2       9.564       21.214\n",
       "3       8.630       15.687\n",
       "4      14.669       22.803\n",
       "5      12.238       20.878\n",
       "6      14.692       24.572\n",
       "7       8.987       17.394\n",
       "8       9.401       20.762\n",
       "9      14.480       26.282\n",
       "10     22.328       24.524\n",
       "11     15.298       18.644\n",
       "12     15.073       17.510\n",
       "13     16.929       20.330\n",
       "14     18.200       35.255\n",
       "15     12.130       22.158\n",
       "16     18.495       25.139\n",
       "17     10.639       20.429\n",
       "18     11.344       17.425\n",
       "19     12.369       34.288\n",
       "20     12.944       23.894\n",
       "21     14.233       17.960\n",
       "22     19.710       22.058\n",
       "23     16.004       21.157\n",
       "24     17.563       28.881"
      ]
     },
     "execution_count": 21,
     "metadata": {},
     "output_type": "execute_result"
    }
   ],
   "source": [
    "import pandas as pd\n",
    "import os\n",
    "\n",
    "path = r'W:\\Udacity\\DAND'\n",
    "filename = 'stroopdata.csv'\n",
    "\n",
    "stroop_df = pd.read_csv(os.path.join(path, filename))\n",
    "stroop_df"
   ]
  },
  {
   "cell_type": "code",
   "execution_count": 22,
   "metadata": {
    "collapsed": true
   },
   "outputs": [],
   "source": [
    "stroop_df['Diff'] = stroop_df['Congruent'] - stroop_df['Incongruent']"
   ]
  },
  {
   "cell_type": "code",
   "execution_count": 23,
   "metadata": {
    "collapsed": false
   },
   "outputs": [
    {
     "name": "stdout",
     "output_type": "stream",
     "text": [
      "Congruent sample mean = 14.19 seconds \n",
      "Incongruent sample mean = 22.29 seconds \n",
      "Difference in sample mean = -8.10 seconds\n"
     ]
    }
   ],
   "source": [
    "print 'Congruent sample mean = {0:.2f} seconds \\nIncongruent sample mean = {1:.2f} seconds \\\n",
    "\\nDifference in sample mean = {2:.2f} seconds'.format(*stroop_df.mean())"
   ]
  },
  {
   "cell_type": "code",
   "execution_count": 24,
   "metadata": {
    "collapsed": false
   },
   "outputs": [
    {
     "name": "stdout",
     "output_type": "stream",
     "text": [
      "Congruent sample median = 14.48 seconds \n",
      "Incongruent sample median = 21.16 seconds \n",
      "Difference in sample median = -8.13 seconds\n"
     ]
    }
   ],
   "source": [
    "print 'Congruent sample median = {0:.2f} seconds \\nIncongruent sample median = {1:.2f} seconds \\\n",
    "\\nDifference in sample median = {2:.2f} seconds'.format(*stroop_df.median())"
   ]
  },
  {
   "cell_type": "code",
   "execution_count": 25,
   "metadata": {
    "collapsed": false
   },
   "outputs": [
    {
     "name": "stdout",
     "output_type": "stream",
     "text": [
      "Congruent sample range = 13.70 seconds \n",
      "Incongruent sample range = 19.57 seconds \n",
      "Difference in sample range = 19.97 seconds\n"
     ]
    }
   ],
   "source": [
    "print 'Congruent sample range = {0:.2f} seconds \\nIncongruent sample range = {1:.2f} seconds \\\n",
    "\\nDifference in sample range = {2:.2f} seconds'. format(*(stroop_df['Congruent'].max() - stroop_df['Congruent'].min(), stroop_df['Incongruent'].max() - stroop_df['Incongruent'].min(),\n",
    "                                                         stroop_df['Diff'].max() - stroop_df['Diff'].min()))"
   ]
  },
  {
   "cell_type": "code",
   "execution_count": 26,
   "metadata": {
    "collapsed": false
   },
   "outputs": [
    {
     "name": "stdout",
     "output_type": "stream",
     "text": [
      "Congruent sample standard deviation = 3.55 seconds \n",
      "Incongruent sample stadard deviation = 4.89 seconds \n",
      "Difference in sample standard deviation = 4.81 seconds\n"
     ]
    }
   ],
   "source": [
    "print 'Congruent sample standard deviation = {0:.2f} seconds \\nIncongruent sample stadard deviation = {1:.2f} seconds \\\n",
    "\\nDifference in sample standard deviation = {2:.2f} seconds'.format(*\n",
    "                                                                                                                     (stroop_df['Congruent'].std(ddof=1), stroop_df['Incongruent'].std(ddof=1), stroop_df['Diff'].std(ddof=1)))"
   ]
  },
  {
   "cell_type": "markdown",
   "metadata": {},
   "source": [
    "### Box plot distribution of the 2 samples\n",
    "\n",
    "Reshape the data<br>\n",
    "Drop redundant column<br>\n",
    "Rename the columns"
   ]
  },
  {
   "cell_type": "code",
   "execution_count": 27,
   "metadata": {
    "collapsed": false
   },
   "outputs": [
    {
     "data": {
      "text/html": [
       "<div>\n",
       "<table border=\"1\" class=\"dataframe\">\n",
       "  <thead>\n",
       "    <tr style=\"text-align: right;\">\n",
       "      <th></th>\n",
       "      <th>Condition</th>\n",
       "      <th>Time_seconds</th>\n",
       "    </tr>\n",
       "  </thead>\n",
       "  <tbody>\n",
       "    <tr>\n",
       "      <th>0</th>\n",
       "      <td>Congruent</td>\n",
       "      <td>12.079</td>\n",
       "    </tr>\n",
       "    <tr>\n",
       "      <th>1</th>\n",
       "      <td>Congruent</td>\n",
       "      <td>16.791</td>\n",
       "    </tr>\n",
       "    <tr>\n",
       "      <th>2</th>\n",
       "      <td>Congruent</td>\n",
       "      <td>9.564</td>\n",
       "    </tr>\n",
       "    <tr>\n",
       "      <th>3</th>\n",
       "      <td>Congruent</td>\n",
       "      <td>8.630</td>\n",
       "    </tr>\n",
       "    <tr>\n",
       "      <th>4</th>\n",
       "      <td>Congruent</td>\n",
       "      <td>14.669</td>\n",
       "    </tr>\n",
       "  </tbody>\n",
       "</table>\n",
       "</div>"
      ],
      "text/plain": [
       "   Condition  Time_seconds\n",
       "0  Congruent        12.079\n",
       "1  Congruent        16.791\n",
       "2  Congruent         9.564\n",
       "3  Congruent         8.630\n",
       "4  Congruent        14.669"
      ]
     },
     "execution_count": 27,
     "metadata": {},
     "output_type": "execute_result"
    }
   ],
   "source": [
    "stroop_df = stroop_df.drop('Diff', axis=1)\n",
    "stroop_unstack_df = stroop_df.unstack().reset_index()\n",
    "stroop_unstack_df = stroop_unstack_df.drop(['level_1'], axis=1)\n",
    "stroop_unstack_df.rename(columns={'level_0': 'Condition', 0: 'Time_seconds'}, inplace=True)\n",
    "stroop_unstack_df.head()"
   ]
  },
  {
   "cell_type": "code",
   "execution_count": 28,
   "metadata": {
    "collapsed": false
   },
   "outputs": [
    {
     "data": {
      "text/plain": [
       "<matplotlib.axes._subplots.AxesSubplot at 0x87c8208>"
      ]
     },
     "execution_count": 28,
     "metadata": {},
     "output_type": "execute_result"
    },
    {
     "data": {
      "image/png": "[encoded data removed]",
      "text/plain": [
       "<matplotlib.figure.Figure at 0x85582e8>"
      ]
     },
     "metadata": {},
     "output_type": "display_data"
    }
   ],
   "source": [
    "import matplotlib.pyplot as plt\n",
    "%matplotlib inline\n",
    "\n",
    "boxplt = stroop_unstack_df.boxplot(column='Time_seconds', by='Condition')\n",
    "boxplt"
   ]
  },
  {
   "cell_type": "markdown",
   "metadata": {},
   "source": [
    "The distribution of the Incongruent samples suggests that it is wider and right-skewed due to presence of outliers. Relatively, the distribution of Congruent samples is more or less narrower and symmetric"
   ]
  },
  {
   "cell_type": "markdown",
   "metadata": {},
   "source": [
    "### Scatter plot of Congruent and Incongruent samples"
   ]
  },
  {
   "cell_type": "code",
   "execution_count": 29,
   "metadata": {
    "collapsed": false
   },
   "outputs": [
    {
     "data": {
      "text/plain": [
       "<matplotlib.text.Text at 0x9a3de10>"
      ]
     },
     "execution_count": 29,
     "metadata": {},
     "output_type": "execute_result"
    },
    {
     "data": {
      "image/png": "[encoded data removed]",
      "text/plain": [
       "<matplotlib.figure.Figure at 0x902c5c0>"
      ]
     },
     "metadata": {},
     "output_type": "display_data"
    }
   ],
   "source": [
    "plt.scatter(stroop_df['Congruent'], stroop_df['Incongruent'])\n",
    "plt.title('Congruent vs Incongruent')\n",
    "plt.xlabel('Congruent - Time(sec)')\n",
    "plt.ylabel('Incongruent - Time(sec)')"
   ]
  },
  {
   "cell_type": "markdown",
   "metadata": {},
   "source": [
    "The scatter plot shows a positive trend between the congruent samples and incongruent samples"
   ]
  },
  {
   "cell_type": "markdown",
   "metadata": {},
   "source": [
    "### t distribution plot of congruent and incongruent sample data"
   ]
  },
  {
   "cell_type": "code",
   "execution_count": 30,
   "metadata": {
    "collapsed": false
   },
   "outputs": [
    {
     "data": {
      "text/plain": [
       "<matplotlib.text.Text at 0xba92198>"
      ]
     },
     "execution_count": 30,
     "metadata": {},
     "output_type": "execute_result"
    },
    {
     "data": {
      "image/png": "[encoded data removed]",
      "text/plain": [
       "<matplotlib.figure.Figure at 0x9007400>"
      ]
     },
     "metadata": {},
     "output_type": "display_data"
    }
   ],
   "source": [
    "import scipy.stats as stats\n",
    "import numpy as np\n",
    "\n",
    "fig, ax = plt.subplots(1, 1, figsize=(20, 8))\n",
    "#stroop_unstack_df.hist(column='Time_seconds', by='Condition', normed=True)\n",
    "#plt.xticks(rotation=0)\n",
    "\n",
    "df_congruent = df_incongruent = stroop_df.shape[0] - 1\n",
    "\n",
    "\n",
    "cong_rv = stats.t.rvs(loc=stroop_df['Congruent'].mean(), scale=stroop_df['Congruent'].std(ddof=1), df=df_congruent, size=500)\n",
    "df, loc, scale = stats.t.fit(cong_rv)\n",
    "\n",
    "plt.hist(cong_rv, normed=True, alpha=0.5, color='g')\n",
    "xmin, xmax = plt.xlim()\n",
    "x = np.linspace(xmin, xmax, 100)\n",
    "cong_pdf = stats.t.pdf(x, loc=loc, scale=scale, df=df)\n",
    "plt.plot(x, cong_pdf, 'k', linewidth=2)\n",
    "\n",
    "\n",
    "incong_rv = stats.t.rvs(loc=stroop_df['Incongruent'].mean(), scale=stroop_df['Incongruent'].std(ddof=1), df=df_incongruent, size=500)\n",
    "df, loc, scale = stats.t.fit(incong_rv)\n",
    "\n",
    "plt.hist(incong_rv, normed=True, alpha=0.3, color='b')\n",
    "xmin, xmax = plt.xlim()\n",
    "x = np.linspace(xmin, xmax, 100)\n",
    "incong_pdf = stats.t.pdf(x, loc=loc, scale=scale, df=df)\n",
    "plt.plot(x, incong_pdf, 'k--', linewidth=2)\n",
    "plt.title('t distribution plot of pair of samples')\n",
    "plt.xlabel('Average time (sec)')\n",
    "plt.ylabel('Density')\n",
    "\n",
    "\n"
   ]
  },
  {
   "cell_type": "markdown",
   "metadata": {},
   "source": [
    "The t distribution plot of the pair of samples clearly reveals that the distribution of Incongruent samples is more spread out comapred\n",
    "with that of the Congruent samples plot"
   ]
  },
  {
   "cell_type": "markdown",
   "metadata": {},
   "source": [
    "### Perform statistical test to confirm or disprove null hypothesis"
   ]
  },
  {
   "cell_type": "markdown",
   "metadata": {},
   "source": [
    "The two-tailed test is being performed at a significance level of 0.05"
   ]
  },
  {
   "cell_type": "code",
   "execution_count": 31,
   "metadata": {
    "collapsed": false
   },
   "outputs": [],
   "source": [
    "alpha = 0.05"
   ]
  },
  {
   "cell_type": "code",
   "execution_count": 32,
   "metadata": {
    "collapsed": false
   },
   "outputs": [
    {
     "name": "stdout",
     "output_type": "stream",
     "text": [
      "t critical at alpha of 0.05 and df of 24 is 2.064\n"
     ]
    }
   ],
   "source": [
    "t_critical = stats.t.ppf(1-alpha/2, df_congruent)\n",
    "print 't critical at alpha of {} and df of {} is {:.3f}'.format(alpha, df_congruent, t_critical)"
   ]
  },
  {
   "cell_type": "code",
   "execution_count": 33,
   "metadata": {
    "collapsed": false
   },
   "outputs": [
    {
     "name": "stdout",
     "output_type": "stream",
     "text": [
      "For the two-tailed test, t test statistic is -8.420 and p-value is 0.000\n"
     ]
    }
   ],
   "source": [
    "t_test, p_value = stats.ttest_rel(stroop_df['Congruent'], stroop_df['Incongruent'])\n",
    "print 'For the two-tailed test, t test statistic is {:.3f} and p-value is {:.3f}'.format(t_test, p_value)"
   ]
  },
  {
   "cell_type": "markdown",
   "metadata": {},
   "source": [
    "The t test statistic is far out in the left tail, much below the t critical, of the t distribution that it can be considered\n",
    "significant"
   ]
  },
  {
   "cell_type": "markdown",
   "metadata": {},
   "source": [
    "Cohen's d"
   ]
  },
  {
   "cell_type": "code",
   "execution_count": 34,
   "metadata": {
    "collapsed": false
   },
   "outputs": [
    {
     "name": "stdout",
     "output_type": "stream",
     "text": [
      "Cohens is -1.68\n"
     ]
    }
   ],
   "source": [
    "Difference_means = -8.10\n",
    "Sample_std_dev = 4.81\n",
    "\n",
    "print 'Cohen''s is {:.2f}'.format(Difference_means/Sample_std_dev)"
   ]
  },
  {
   "cell_type": "markdown",
   "metadata": {},
   "source": [
    "$$r^{2}$$"
   ]
  },
  {
   "cell_type": "code",
   "execution_count": 35,
   "metadata": {
    "collapsed": false
   },
   "outputs": [
    {
     "name": "stdout",
     "output_type": "stream",
     "text": [
      "r2 for this experiment is 0.75\n"
     ]
    }
   ],
   "source": [
    "print 'r2 for this experiment is {:.2f}'.format(t_test**2/(t_test**2 + df_congruent))"
   ]
  },
  {
   "cell_type": "markdown",
   "metadata": {},
   "source": [
    "75% of the variability in the dependent variable is explained by the independent variable."
   ]
  },
  {
   "cell_type": "markdown",
   "metadata": {},
   "source": [
    "### 95% Confidence Interval for the difference of means"
   ]
  },
  {
   "cell_type": "code",
   "execution_count": 36,
   "metadata": {
    "collapsed": false
   },
   "outputs": [
    {
     "name": "stdout",
     "output_type": "stream",
     "text": [
      "95% CI for the difference of means is (-10.09, -6.11)\n"
     ]
    }
   ],
   "source": [
    "#import scipy\n",
    "#import scikits.bootstrap as bootstrap \n",
    "\n",
    "#lower_limit, upper_limit = bootstrap.ci(data=stroop_df, statfunction=scipy.mean)\n",
    "mean_diff = -8.1\n",
    "sample_size = len(stroop_df)\n",
    "sem = 4.81 /np.sqrt(sample_size)\n",
    "margin_of_error = t_critical * sem\n",
    "lower_limit = mean_diff - margin_of_error\n",
    "upper_limit = mean_diff + margin_of_error\n",
    "print '95% CI for the difference of means is ({:.2f}, {:.2f})'.format(lower_limit, upper_limit)"
   ]
  },
  {
   "cell_type": "markdown",
   "metadata": {},
   "source": [
    "On average, a participant spends about 6 to 10 seconds lesser on the first task than on the second task"
   ]
  },
  {
   "cell_type": "markdown",
   "metadata": {},
   "source": [
    "Based on this result, we can reject the null hypothesis that there is no difference in time taken to complete the task under\n",
    "the 2 conditions. The result is statistically significant, and it is relevant to scientists, as it tells us how the human brain reacts when\n",
    "asked to read out the color of inked words rather than the words themselves. These results agreed with my hypothesis that the mean difference in time taken under the 2 conditions are statistically significant. During the second test, I conciously took longer time to complete the task in order to avoid making mistakes."
   ]
  },
  {
   "cell_type": "markdown",
   "metadata": {},
   "source": [
    "## Resources"
   ]
  },
  {
   "cell_type": "markdown",
   "metadata": {},
   "source": [
    "[steps to perform hypothesis](https://classroom.udacity.com/nanodegrees/nd002/parts/0021345402/modules/458220420175460/lessons/4578095863/concepts/1470193290923#)<br>\n",
    "[unstack pandas df](http://stackoverflow.com/questions/20847508/unstacking-data-with-pandas)<br>\n",
    "[plot normal distribution](http://stackoverflow.com/questions/20011494/plot-normal-distribution-with-matplotlib)<br>\n",
    "[t stats](http://docs.scipy.org/doc/scipy/reference/generated/scipy.stats.t.html)<br>\n",
    "[fit t distribution](http://stackoverflow.com/questions/36051942/anomalies-when-trying-to-fit-students-t-distribution-using-scipy)<br>\n",
    "[fit normal distribution](http://stackoverflow.com/questions/20011122/fitting-a-normal-distribution-to-1d-data)<br>\n",
    "[paired t test statistic](http://docs.scipy.org/doc/scipy/reference/generated/scipy.stats.ttest_rel.html)  "
   ]
  },
  {
   "cell_type": "code",
   "execution_count": 37,
   "metadata": {
    "collapsed": false
   },
   "outputs": [
    {
     "data": {
      "text/plain": [
       "['a', 'b', 'c']"
      ]
     },
     "execution_count": 37,
     "metadata": {},
     "output_type": "execute_result"
    }
   ],
   "source": [
    "\"a b c\".split(' ')"
   ]
  },
  {
   "cell_type": "code",
   "execution_count": null,
   "metadata": {
    "collapsed": true
   },
   "outputs": [],
   "source": []
  }
 ],
 "metadata": {
  "kernelspec": {
   "display_name": "Python 2",
   "language": "python",
   "name": "python2"
  },
  "language_info": {
   "codemirror_mode": {
    "name": "ipython",
    "version": 2
   },
   "file_extension": ".py",
   "mimetype": "text/x-python",
   "name": "python",
   "nbconvert_exporter": "python",
   "pygments_lexer": "ipython2",
   "version": "2.7.12"
  }
 },
 "nbformat": 4,
 "nbformat_minor": 0
}

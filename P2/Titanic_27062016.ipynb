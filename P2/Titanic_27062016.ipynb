{
 "cells": [
  {
   "cell_type": "markdown",
   "metadata": {},
   "source": [
    "# Titanic dataset analysis\n",
    "\n",
    "[source](https://www.kaggle.com/c/titanic/data)\n",
    "\n",
    "### Data dictionary\n",
    "\n",
    "#### VARIABLE DESCRIPTIONS:\n",
    "\n",
    "```\n",
    "\n",
    "survival        Survival\n",
    "                (0 = No; 1 = Yes)\n",
    "pclass          Passenger Class\n",
    "                (1 = 1st; 2 = 2nd; 3 = 3rd)\n",
    "name            Name\n",
    "sex             Sex\n",
    "age             Age\n",
    "sibsp           Number of Siblings/Spouses Aboard\n",
    "parch           Number of Parents/Children Aboard\n",
    "ticket          Ticket Number\n",
    "fare            Passenger Fare\n",
    "cabin           Cabin\n",
    "embarked        Port of Embarkation\n",
    "                (C = Cherbourg; Q = Queenstown; S = Southampton)\n",
    "```\n",
    "\n",
    "#### SPECIAL NOTES:\n",
    "```\n",
    "Pclass is a proxy for socio-economic status (SES)\n",
    " 1st ~ Upper; 2nd ~ Middle; 3rd ~ Lower\n",
    "\n",
    "Age is in Years; Fractional if Age less than One (1)\n",
    " If the Age is Estimated, it is in the form xx.5\n",
    "\n",
    "With respect to the family relation variables (i.e. sibsp and parch)\n",
    "some relations were ignored.  The following are the definitions used\n",
    "for sibsp and parch.\n",
    "\n",
    "Sibling:  Brother, Sister, Stepbrother, or Stepsister of Passenger Aboard Titanic\n",
    "Spouse:   Husband or Wife of Passenger Aboard Titanic (Mistresses and Fiances Ignored)\n",
    "Parent:   Mother or Father of Passenger Aboard Titanic\n",
    "Child:    Son, Daughter, Stepson, or Stepdaughter of Passenger Aboard Titanic\n",
    "\n",
    "Other family relatives excluded from this study include cousins,\n",
    "nephews/nieces, aunts/uncles, and in-laws.  Some children travelled\n",
    "only with a nanny, therefore parch=0 for them.  As well, some\n",
    "travelled with very close friends or neighbors in a village, however,\n",
    "the definitions do not support such relations.\n",
    "```\n",
    "### Some questions to answer\n",
    "```\n",
    "1) What is the median, min, and max age of the passengers in each of the 3 classes?\n",
    "2) What are the characteristics of passengers who survived the disaster?\n",
    "3) How many survived in each of the 3 classes?\n",
    "4) Between the genders, what is the percentage of survivors?\n",
    "5) What is the mean,median, min, and max fare paid across the 3 classes?\n",
    "```\n"
   ]
  },
  {
   "cell_type": "markdown",
   "metadata": {},
   "source": [
    "## 1) Load data dictionary"
   ]
  },
  {
   "cell_type": "code",
   "execution_count": 49,
   "metadata": {
    "collapsed": false
   },
   "outputs": [],
   "source": [
    "import pandas as pd\n",
    "import numpy as np\n",
    "import matplotlib.pyplot as plt\n",
    "import os\n",
    "\n",
    "path = r'W:\\Udacity\\Introduction to programming Nano degree\\data analysis elective'\n",
    "filename = 'titanic_data.csv'\n",
    "\n",
    "titanic_df = pd.read_csv(os.path.join(path, filename))\n"
   ]
  },
  {
   "cell_type": "markdown",
   "metadata": {},
   "source": [
    "## 2) Check some basic features of the dataset: \n",
    "<br> a) number of features <br> b) number of observations in each field <br> c) the top 5 observations"
   ]
  },
  {
   "cell_type": "code",
   "execution_count": 50,
   "metadata": {
    "collapsed": false
   },
   "outputs": [
    {
     "name": "stdout",
     "output_type": "stream",
     "text": [
      "Number of features: 12\n",
      "Number of rows:\n",
      "PassengerId    891\n",
      "Survived       891\n",
      "Pclass         891\n",
      "Name           891\n",
      "Sex            891\n",
      "Age            714\n",
      "SibSp          891\n",
      "Parch          891\n",
      "Ticket         891\n",
      "Fare           891\n",
      "Cabin          204\n",
      "Embarked       889\n",
      "dtype: int64\n"
     ]
    },
    {
     "data": {
      "text/html": [
       "<div>\n",
       "<table border=\"1\" class=\"dataframe\">\n",
       "  <thead>\n",
       "    <tr style=\"text-align: right;\">\n",
       "      <th></th>\n",
       "      <th>PassengerId</th>\n",
       "      <th>Survived</th>\n",
       "      <th>Pclass</th>\n",
       "      <th>Name</th>\n",
       "      <th>Sex</th>\n",
       "      <th>Age</th>\n",
       "      <th>SibSp</th>\n",
       "      <th>Parch</th>\n",
       "      <th>Ticket</th>\n",
       "      <th>Fare</th>\n",
       "      <th>Cabin</th>\n",
       "      <th>Embarked</th>\n",
       "    </tr>\n",
       "  </thead>\n",
       "  <tbody>\n",
       "    <tr>\n",
       "      <th>0</th>\n",
       "      <td>1</td>\n",
       "      <td>0</td>\n",
       "      <td>3</td>\n",
       "      <td>Braund, Mr. Owen Harris</td>\n",
       "      <td>male</td>\n",
       "      <td>22</td>\n",
       "      <td>1</td>\n",
       "      <td>0</td>\n",
       "      <td>A/5 21171</td>\n",
       "      <td>7.2500</td>\n",
       "      <td>NaN</td>\n",
       "      <td>S</td>\n",
       "    </tr>\n",
       "    <tr>\n",
       "      <th>1</th>\n",
       "      <td>2</td>\n",
       "      <td>1</td>\n",
       "      <td>1</td>\n",
       "      <td>Cumings, Mrs. John Bradley (Florence Briggs Th...</td>\n",
       "      <td>female</td>\n",
       "      <td>38</td>\n",
       "      <td>1</td>\n",
       "      <td>0</td>\n",
       "      <td>PC 17599</td>\n",
       "      <td>71.2833</td>\n",
       "      <td>C85</td>\n",
       "      <td>C</td>\n",
       "    </tr>\n",
       "    <tr>\n",
       "      <th>2</th>\n",
       "      <td>3</td>\n",
       "      <td>1</td>\n",
       "      <td>3</td>\n",
       "      <td>Heikkinen, Miss. Laina</td>\n",
       "      <td>female</td>\n",
       "      <td>26</td>\n",
       "      <td>0</td>\n",
       "      <td>0</td>\n",
       "      <td>STON/O2. 3101282</td>\n",
       "      <td>7.9250</td>\n",
       "      <td>NaN</td>\n",
       "      <td>S</td>\n",
       "    </tr>\n",
       "    <tr>\n",
       "      <th>3</th>\n",
       "      <td>4</td>\n",
       "      <td>1</td>\n",
       "      <td>1</td>\n",
       "      <td>Futrelle, Mrs. Jacques Heath (Lily May Peel)</td>\n",
       "      <td>female</td>\n",
       "      <td>35</td>\n",
       "      <td>1</td>\n",
       "      <td>0</td>\n",
       "      <td>113803</td>\n",
       "      <td>53.1000</td>\n",
       "      <td>C123</td>\n",
       "      <td>S</td>\n",
       "    </tr>\n",
       "    <tr>\n",
       "      <th>4</th>\n",
       "      <td>5</td>\n",
       "      <td>0</td>\n",
       "      <td>3</td>\n",
       "      <td>Allen, Mr. William Henry</td>\n",
       "      <td>male</td>\n",
       "      <td>35</td>\n",
       "      <td>0</td>\n",
       "      <td>0</td>\n",
       "      <td>373450</td>\n",
       "      <td>8.0500</td>\n",
       "      <td>NaN</td>\n",
       "      <td>S</td>\n",
       "    </tr>\n",
       "  </tbody>\n",
       "</table>\n",
       "</div>"
      ],
      "text/plain": [
       "   PassengerId  Survived  Pclass  \\\n",
       "0            1         0       3   \n",
       "1            2         1       1   \n",
       "2            3         1       3   \n",
       "3            4         1       1   \n",
       "4            5         0       3   \n",
       "\n",
       "                                                Name     Sex  Age  SibSp  \\\n",
       "0                            Braund, Mr. Owen Harris    male   22      1   \n",
       "1  Cumings, Mrs. John Bradley (Florence Briggs Th...  female   38      1   \n",
       "2                             Heikkinen, Miss. Laina  female   26      0   \n",
       "3       Futrelle, Mrs. Jacques Heath (Lily May Peel)  female   35      1   \n",
       "4                           Allen, Mr. William Henry    male   35      0   \n",
       "\n",
       "   Parch            Ticket     Fare Cabin Embarked  \n",
       "0      0         A/5 21171   7.2500   NaN        S  \n",
       "1      0          PC 17599  71.2833   C85        C  \n",
       "2      0  STON/O2. 3101282   7.9250   NaN        S  \n",
       "3      0            113803  53.1000  C123        S  \n",
       "4      0            373450   8.0500   NaN        S  "
      ]
     },
     "execution_count": 50,
     "metadata": {},
     "output_type": "execute_result"
    }
   ],
   "source": [
    "print 'Number of features:', len(titanic_df.columns)\n",
    "#print titanic_df.describe()\n",
    "print 'Number of rows:'\n",
    "print titanic_df.count()\n",
    "titanic_df.head()"
   ]
  },
  {
   "cell_type": "markdown",
   "metadata": {},
   "source": [
    "Some preliminary observations:\n",
    "\n",
    "1) Feature Cabin is sparsely populated; there are only 204 values, and some observations have more than one cabin number separated by spaces to indicate family travelling onboard <br>\n",
    "2) Age is another variable where only 714 observations are populated <br>\n",
    "3) 3 values are missing for the Embarked variable"
   ]
  },
  {
   "cell_type": "markdown",
   "metadata": {},
   "source": [
    "## 3) Data summaries, cleaning and transformation"
   ]
  },
  {
   "cell_type": "markdown",
   "metadata": {},
   "source": [
    "Convert integer columns such as Passenger, Survived, and Pclass to string type"
   ]
  },
  {
   "cell_type": "code",
   "execution_count": 51,
   "metadata": {
    "collapsed": false
   },
   "outputs": [
    {
     "name": "stdout",
     "output_type": "stream",
     "text": [
      "PassengerId      int64\n",
      "Survived         int64\n",
      "Pclass           int64\n",
      "Name            object\n",
      "Sex             object\n",
      "Age            float64\n",
      "SibSp            int64\n",
      "Parch            int64\n",
      "Ticket          object\n",
      "Fare           float64\n",
      "Cabin           object\n",
      "Embarked        object\n",
      "dtype: object\n"
     ]
    }
   ],
   "source": [
    "print titanic_df.dtypes"
   ]
  },
  {
   "cell_type": "code",
   "execution_count": 52,
   "metadata": {
    "collapsed": true
   },
   "outputs": [],
   "source": [
    "def convert_datatype(df, column_list, datatype_list):\n",
    "    \"\"\"\n",
    "    Takes a dataframe, list of columns, and datatype list and converts the\n",
    "    columns to the correct type\n",
    "    Input: dataframe, column list to convert, and datatype list\n",
    "    Output: return df\n",
    "    \"\"\"\n",
    "    for column, datatype in zip(column_list, datatype_list):\n",
    "        df[column] = df[column].astype(datatype)\n",
    "    return df"
   ]
  },
  {
   "cell_type": "code",
   "execution_count": 53,
   "metadata": {
    "collapsed": false
   },
   "outputs": [],
   "source": [
    "column_list = ['PassengerId', 'Survived', 'Pclass']\n",
    "datatype_list = [str] * 3\n",
    "titanic_df = convert_datatype(titanic_df, column_list, datatype_list)"
   ]
  },
  {
   "cell_type": "code",
   "execution_count": 54,
   "metadata": {
    "collapsed": false
   },
   "outputs": [
    {
     "data": {
      "text/plain": [
       "PassengerId     object\n",
       "Survived        object\n",
       "Pclass          object\n",
       "Name            object\n",
       "Sex             object\n",
       "Age            float64\n",
       "SibSp            int64\n",
       "Parch            int64\n",
       "Ticket          object\n",
       "Fare           float64\n",
       "Cabin           object\n",
       "Embarked        object\n",
       "dtype: object"
      ]
     },
     "execution_count": 54,
     "metadata": {},
     "output_type": "execute_result"
    }
   ],
   "source": [
    "titanic_df.dtypes"
   ]
  },
  {
   "cell_type": "markdown",
   "metadata": {},
   "source": [
    "Per cent of survivors vs non survivors"
   ]
  },
  {
   "cell_type": "code",
   "execution_count": 55,
   "metadata": {
    "collapsed": false
   },
   "outputs": [
    {
     "data": {
      "text/plain": [
       "0    61.616162\n",
       "1    38.383838\n",
       "Name: Survived, dtype: float64"
      ]
     },
     "execution_count": 55,
     "metadata": {},
     "output_type": "execute_result"
    }
   ],
   "source": [
    "100 * titanic_df['Survived'].value_counts(normalize=True)"
   ]
  },
  {
   "cell_type": "markdown",
   "metadata": {},
   "source": [
    "Proportion of survived is ${\\dfrac{342}{(549+342)}}$ = 38%"
   ]
  },
  {
   "cell_type": "code",
   "execution_count": 56,
   "metadata": {
    "collapsed": false
   },
   "outputs": [
    {
     "data": {
      "text/plain": [
       "3    55.106622\n",
       "1    24.242424\n",
       "2    20.650954\n",
       "Name: Pclass, dtype: float64"
      ]
     },
     "execution_count": 56,
     "metadata": {},
     "output_type": "execute_result"
    }
   ],
   "source": [
    "100 * titanic_df['Pclass'].value_counts(normalize=True)"
   ]
  },
  {
   "cell_type": "markdown",
   "metadata": {},
   "source": [
    "55% of the passengers were travelling in class 3"
   ]
  },
  {
   "cell_type": "markdown",
   "metadata": {},
   "source": [
    "Are there any unsual values in the numeric fields such as Age and/or Fare?"
   ]
  },
  {
   "cell_type": "code",
   "execution_count": 57,
   "metadata": {
    "collapsed": false
   },
   "outputs": [],
   "source": [
    "def summary_statistics(df, field):\n",
    "    \"\"\"\n",
    "    Computes summary statistics such as the mean, median, std, min, max\n",
    "    Input: Dataframe, variable of interest\n",
    "    Ouput: a tuple of mean, median, std, minimum, maximum\n",
    "    \"\"\"\n",
    "    return (df[field].mean(), df[field].median(), df[field].std(), min(df[field]), max(df[field]))\n",
    "#    print 'Mean:', df[field].mean()\n",
    "#    print 'Median:', df[field].median()\n",
    "#    print 'Minimum:', min(df[field])\n",
    "#    print 'Maximum:', max(df[field])"
   ]
  },
  {
   "cell_type": "code",
   "execution_count": 58,
   "metadata": {
    "collapsed": false
   },
   "outputs": [
    {
     "name": "stdout",
     "output_type": "stream",
     "text": [
      "Mean age: 29.6991176471, Median age: 28.0, Std dev: 14.5264973323, Minimum age: 0.42, Maximum age: 80.0\n",
      "Mean fare: 32.2042079686, Median fare: 14.4542, Std dev: 49.6934285972, Minimum fare: 0.0, Maximum fare: 512.3292\n"
     ]
    }
   ],
   "source": [
    "print 'Mean age: {0}, Median age: {1}, Std dev: {2}, Minimum age: {3}, Maximum age: {4}'. format(*summary_statistics(titanic_df, 'Age'))\n",
    "print 'Mean fare: {0}, Median fare: {1}, Std dev: {2}, Minimum fare: {3}, Maximum fare: {4}'. format(*summary_statistics(titanic_df, 'Fare'))"
   ]
  },
  {
   "cell_type": "markdown",
   "metadata": {},
   "source": [
    "There isn't much variation in the ages. However, in the fares, we see significant variation. Interestingly, there is a minimum fare of 0"
   ]
  },
  {
   "cell_type": "markdown",
   "metadata": {},
   "source": [
    "Let's look at the same variable's statistics by class"
   ]
  },
  {
   "cell_type": "code",
   "execution_count": 59,
   "metadata": {
    "collapsed": false
   },
   "outputs": [],
   "source": [
    "def group_summary_statistics(df, group_field, field):\n",
    "    \"\"\"\n",
    "    Computes summary statistics such as the mean, median, std, min, and  max\n",
    "    Input: Dataframe, groupby field, and variable of interest\n",
    "    Ouput: a tuple of mean, median, std, minimum, maximum\n",
    "    \"\"\"\n",
    "    return (df.groupby([group_field])[field].mean(), df.groupby([group_field])[field].median(), \n",
    "            df.groupby([group_field])[field].std(), df.groupby([group_field])[field].min(), \n",
    "            df.groupby([group_field])[field].max())\n"
   ]
  },
  {
   "cell_type": "code",
   "execution_count": 60,
   "metadata": {
    "collapsed": false
   },
   "outputs": [
    {
     "name": "stdout",
     "output_type": "stream",
     "text": [
      "Mean age: Pclass\n",
      "1    38.233441\n",
      "2    29.877630\n",
      "3    25.140620\n",
      "Name: Age, dtype: float64, \n",
      "Median age: Pclass\n",
      "1    37\n",
      "2    29\n",
      "3    24\n",
      "Name: Age, dtype: float64, \n",
      "Std dev: Pclass\n",
      "1    14.802856\n",
      "2    14.001077\n",
      "3    12.495398\n",
      "Name: Age, dtype: float64, \n",
      "Minimum age: Pclass\n",
      "1    0.92\n",
      "2    0.67\n",
      "3    0.42\n",
      "Name: Age, dtype: float64, \n",
      "Maximum age: Pclass\n",
      "1    80\n",
      "2    70\n",
      "3    74\n",
      "Name: Age, dtype: float64\n",
      "Mean fare: Pclass\n",
      "1    84.154687\n",
      "2    20.662183\n",
      "3    13.675550\n",
      "Name: Fare, dtype: float64, \n",
      "Median fare: Pclass\n",
      "1    60.2875\n",
      "2    14.2500\n",
      "3     8.0500\n",
      "Name: Fare, dtype: float64, \n",
      "Std dev: Pclass\n",
      "1    78.380373\n",
      "2    13.417399\n",
      "3    11.778142\n",
      "Name: Fare, dtype: float64, \n",
      "Minimum fare: Pclass\n",
      "1    0\n",
      "2    0\n",
      "3    0\n",
      "Name: Fare, dtype: float64, \n",
      "Maximum fare: Pclass\n",
      "1    512.3292\n",
      "2     73.5000\n",
      "3     69.5500\n",
      "Name: Fare, dtype: float64\n"
     ]
    }
   ],
   "source": [
    "print 'Mean age: {0}, \\nMedian age: {1}, \\nStd dev: {2}, \\nMinimum age: {3}, \\nMaximum age: {4}'. format(*group_summary_statistics(titanic_df, 'Pclass', 'Age'))\n",
    "print 'Mean fare: {0}, \\nMedian fare: {1}, \\nStd dev: {2}, \\nMinimum fare: {3}, \\nMaximum fare: {4}'. format(*group_summary_statistics(titanic_df, 'Pclass', 'Fare'))"
   ]
  },
  {
   "cell_type": "markdown",
   "metadata": {},
   "source": [
    "With respect to the ages field, ages of passengers in class 2 and 3 are not very dissimilar, but the passengers in class 1 are relatively older than those in class 2 and class 3.\n",
    "\n",
    "With respect to the fares, there is wide difference between class 2 and 3 and class 1. Also, there are passengers who have supposedly travelled for free across the classes."
   ]
  },
  {
   "cell_type": "markdown",
   "metadata": {},
   "source": [
    "Youngest and oldest survivors"
   ]
  },
  {
   "cell_type": "code",
   "execution_count": 61,
   "metadata": {
    "collapsed": false
   },
   "outputs": [
    {
     "name": "stdout",
     "output_type": "stream",
     "text": [
      "Name      Thomas, Master. Assad Alexander\n",
      "Age                                  0.42\n",
      "Sex                                  male\n",
      "Pclass                                  3\n",
      "Name: 803, dtype: object\n",
      "Name      Barkworth, Mr. Algernon Henry Wilson\n",
      "Age                                         80\n",
      "Sex                                       male\n",
      "Pclass                                       1\n",
      "Name: 630, dtype: object\n"
     ]
    }
   ],
   "source": [
    "print titanic_df.loc[titanic_df['Age'].argmin(), ['Name', 'Age', 'Sex', 'Pclass']]\n",
    "print titanic_df.loc[titanic_df['Age'].argmax(), ['Name', 'Age', 'Sex', 'Pclass']]\n"
   ]
  },
  {
   "cell_type": "markdown",
   "metadata": {},
   "source": [
    "How many passengers have travelled for 'free'?"
   ]
  },
  {
   "cell_type": "code",
   "execution_count": 62,
   "metadata": {
    "collapsed": false
   },
   "outputs": [
    {
     "data": {
      "text/plain": [
       "15"
      ]
     },
     "execution_count": 62,
     "metadata": {},
     "output_type": "execute_result"
    }
   ],
   "source": [
    "titanic_df.groupby('Pclass')['Fare'].apply(lambda f: (f == 0)).sum()\n",
    "#titanic_stowaway_df = titanic_df[titanic_df['Fare'] == 0]\n",
    "#titanic_stowaway_df.groupby('Pclass').size()"
   ]
  },
  {
   "cell_type": "markdown",
   "metadata": {},
   "source": [
    "15 passengers have travelled for 'free', which is 1.7% of all passengers"
   ]
  },
  {
   "cell_type": "markdown",
   "metadata": {},
   "source": [
    "Frequency distribution of siblings and parents aboard"
   ]
  },
  {
   "cell_type": "code",
   "execution_count": 63,
   "metadata": {
    "collapsed": false
   },
   "outputs": [
    {
     "name": "stdout",
     "output_type": "stream",
     "text": [
      "0    608\n",
      "1    209\n",
      "2     28\n",
      "3     16\n",
      "4     18\n",
      "5      5\n",
      "8      7\n",
      "Name: SibSp, dtype: int64\n",
      "0    678\n",
      "1    118\n",
      "2     80\n",
      "3      5\n",
      "4      4\n",
      "5      5\n",
      "6      1\n",
      "Name: Parch, dtype: int64\n"
     ]
    }
   ],
   "source": [
    "print titanic_df['SibSp'].value_counts().sort_index(axis=0, ascending=True)\n",
    "print titanic_df['Parch'].value_counts().sort_index(ascending=True)\n",
    "#no_family_df = titanic_df[(titanic_df['SibSp'] == 0) & (titanic_df['Parch'] == 0)]\n",
    "#print len(no_family_df)"
   ]
  },
  {
   "cell_type": "markdown",
   "metadata": {},
   "source": [
    "Distribution by gender"
   ]
  },
  {
   "cell_type": "code",
   "execution_count": 64,
   "metadata": {
    "collapsed": false
   },
   "outputs": [
    {
     "data": {
      "text/plain": [
       "male      64.758698\n",
       "female    35.241302\n",
       "Name: Sex, dtype: float64"
      ]
     },
     "execution_count": 64,
     "metadata": {},
     "output_type": "execute_result"
    }
   ],
   "source": [
    "100 * titanic_df['Sex'].value_counts(normalize=True)"
   ]
  },
  {
   "cell_type": "markdown",
   "metadata": {},
   "source": [
    "Count of missing cabin data by Pclass"
   ]
  },
  {
   "cell_type": "code",
   "execution_count": 97,
   "metadata": {
    "collapsed": false
   },
   "outputs": [
    {
     "data": {
      "text/plain": [
       "Pclass\n",
       "1     40\n",
       "2    168\n",
       "3    479\n",
       "Name: Cabin, dtype: int64"
      ]
     },
     "execution_count": 97,
     "metadata": {},
     "output_type": "execute_result"
    }
   ],
   "source": [
    "#titanic_df.groupby('Pclass')['Cabin'].value_counts()\n",
    "titanic_df.groupby('Pclass')['Cabin'].apply(lambda x: x.isnull().sum())"
   ]
  },
  {
   "cell_type": "markdown",
   "metadata": {},
   "source": [
    "Out of the 184 and 491 passengers travelling in class 2 and class 3 respectively, Cabin numbers for 168 (89%) and 479 (98%) passengers, respectively, are missing, which is astonishing; this could\n",
    "be attributed to the fact that these cabins were the first to be affected when the ship collided with the iceberg, and hence there are no record of these cabins"
   ]
  },
  {
   "cell_type": "markdown",
   "metadata": {},
   "source": [
    "As suggested by the reviewer, imputing age can impact the conclusions made with respect to Age. So,I will be removing the missing records 177(20%). The rest of the analysis will be carried out with the cleaned df."
   ]
  },
  {
   "cell_type": "code",
   "execution_count": 70,
   "metadata": {
    "collapsed": false
   },
   "outputs": [],
   "source": [
    "titanic_cleaned_df = titanic_df[titanic_df['Age'].notnull()]"
   ]
  },
  {
   "cell_type": "markdown",
   "metadata": {},
   "source": [
    "Impute missing ages by median age in each class"
   ]
  },
  {
   "cell_type": "code",
   "execution_count": 17,
   "metadata": {
    "collapsed": false
   },
   "outputs": [],
   "source": [
    "def impute_age(df, group, age):\n",
    "    \"\"\"\n",
    "    Impute missing age values in each class by its median age\n",
    "    Input: dataframe, group, age\n",
    "    Output: None\n",
    "    \"\"\"\n",
    "    df[age].fillna(df.groupby(group)[age].transform(\"median\"), inplace=True)"
   ]
  },
  {
   "cell_type": "code",
   "execution_count": 41,
   "metadata": {
    "collapsed": false
   },
   "outputs": [],
   "source": [
    "#impute_age(titanic_df, 'Pclass', 'Age')\n",
    "#titanic_df.groupby('Pclass')['Age'].median()\n",
    "#titanic_df.columns\n",
    "#titanic_df.drop('age1', axis=1, inplace=True)\n"
   ]
  },
  {
   "cell_type": "markdown",
   "metadata": {},
   "source": [
    "Histogram of the ticket Fare"
   ]
  },
  {
   "cell_type": "code",
   "execution_count": 71,
   "metadata": {
    "collapsed": false
   },
   "outputs": [
    {
     "data": {
      "text/plain": [
       "<matplotlib.axes._subplots.AxesSubplot at 0x205f9940>"
      ]
     },
     "execution_count": 71,
     "metadata": {},
     "output_type": "execute_result"
    },
    {
     "data": {
      "image/png": "[encoded data removed]",
      "text/plain": [
       "<matplotlib.figure.Figure at 0x204e6208>"
      ]
     },
     "metadata": {},
     "output_type": "display_data"
    }
   ],
   "source": [
    "%matplotlib inline\n",
    "titanic_cleaned_df['Fare'].hist(bins=15)"
   ]
  },
  {
   "cell_type": "code",
   "execution_count": 72,
   "metadata": {
    "collapsed": false
   },
   "outputs": [
    {
     "name": "stdout",
     "output_type": "stream",
     "text": [
      "Number of children under age 1 are 7\n",
      "Number of male children 18 and under who didnt make it\n",
      "Survived  Pclass\n",
      "0         3         40\n",
      "          2          6\n",
      "          1          1\n",
      "dtype: int64\n",
      "Number of female children 18 and under who didnt make it\n",
      "Survived  Pclass\n",
      "0         3         21\n",
      "          1          1\n",
      "dtype: int64\n"
     ]
    }
   ],
   "source": [
    "print 'Number of children under age 1 are', sum(titanic_cleaned_df['Age'] < 1)\n",
    "print 'Number of male children 18 and under who didn''t make it\\n', titanic_cleaned_df[(titanic_cleaned_df['Age'] <= 18) & (titanic_cleaned_df['Survived'] == '0') & (titanic_cleaned_df['Sex'] == 'male')].groupby('Survived')['Pclass'].value_counts()\n",
    "print 'Number of female children 18 and under who didn''t make it\\n', titanic_cleaned_df[(titanic_cleaned_df['Age'] <= 18) & (titanic_cleaned_df['Survived'] == '0') & (titanic_cleaned_df['Sex'] == 'female')].groupby('Survived')['Pclass'].value_counts()\n"
   ]
  },
  {
   "cell_type": "code",
   "execution_count": 73,
   "metadata": {
    "collapsed": false
   },
   "outputs": [
    {
     "data": {
      "text/html": [
       "<div>\n",
       "<table border=\"1\" class=\"dataframe\">\n",
       "  <thead>\n",
       "    <tr style=\"text-align: right;\">\n",
       "      <th>Survived</th>\n",
       "      <th>0</th>\n",
       "      <th>1</th>\n",
       "    </tr>\n",
       "    <tr>\n",
       "      <th>Pclass</th>\n",
       "      <th></th>\n",
       "      <th></th>\n",
       "    </tr>\n",
       "  </thead>\n",
       "  <tbody>\n",
       "    <tr>\n",
       "      <th>1</th>\n",
       "      <td>8.963585</td>\n",
       "      <td>17.086835</td>\n",
       "    </tr>\n",
       "    <tr>\n",
       "      <th>2</th>\n",
       "      <td>12.605042</td>\n",
       "      <td>11.624650</td>\n",
       "    </tr>\n",
       "    <tr>\n",
       "      <th>3</th>\n",
       "      <td>37.815126</td>\n",
       "      <td>11.904762</td>\n",
       "    </tr>\n",
       "  </tbody>\n",
       "</table>\n",
       "</div>"
      ],
      "text/plain": [
       "Survived          0          1\n",
       "Pclass                        \n",
       "1          8.963585  17.086835\n",
       "2         12.605042  11.624650\n",
       "3         37.815126  11.904762"
      ]
     },
     "execution_count": 73,
     "metadata": {},
     "output_type": "execute_result"
    }
   ],
   "source": [
    "100 * pd.crosstab(titanic_cleaned_df['Pclass'], titanic_cleaned_df['Survived']) / len(titanic_cleaned_df)"
   ]
  },
  {
   "cell_type": "code",
   "execution_count": 74,
   "metadata": {
    "collapsed": false
   },
   "outputs": [
    {
     "data": {
      "text/plain": [
       "array([  4.   ,  14.   ,  20.125,  28.   ,  38.   ,  50.   ])"
      ]
     },
     "execution_count": 74,
     "metadata": {},
     "output_type": "execute_result"
    }
   ],
   "source": [
    "np.percentile(titanic_cleaned_df['Age'], [5, 10, 25, 50, 75, 90])"
   ]
  },
  {
   "cell_type": "markdown",
   "metadata": {
    "collapsed": true
   },
   "source": [
    "### 4) Some visuals"
   ]
  },
  {
   "cell_type": "code",
   "execution_count": 47,
   "metadata": {
    "collapsed": true
   },
   "outputs": [],
   "source": [
    "def age_bucket(ages):\n",
    "    \"\"\"\n",
    "    Create age buckets\n",
    "    0 - 6\n",
    "    7 - 20\n",
    "    21 - 35\n",
    "    36 - 50\n",
    "    > 50\n",
    "    Input: ages series\n",
    "    Output: age bucket\n",
    "    \"\"\"\n",
    "    if ages < 7:\n",
    "        return '0-6 yrs'\n",
    "    elif ages < 21:\n",
    "        return '7-20 yrs'\n",
    "    elif ages < 36:\n",
    "        return '21-35 yrs'\n",
    "    elif ages < 51:\n",
    "        return '36-50 yrs'\n",
    "    return '>50 yrs'"
   ]
  },
  {
   "cell_type": "code",
   "execution_count": 80,
   "metadata": {
    "collapsed": false
   },
   "outputs": [],
   "source": [
    "#titanic_cleaned_df.drop('AgeBucket', axis=1, inplace=True)\n",
    "pd.options.mode.chained_assignment = None\n",
    "titanic_cleaned_df['AgeBucket'] = titanic_cleaned_df['Age'].apply(age_bucket)\n"
   ]
  },
  {
   "cell_type": "code",
   "execution_count": 81,
   "metadata": {
    "collapsed": false
   },
   "outputs": [
    {
     "data": {
      "text/plain": [
       "<Container object of 5 artists>"
      ]
     },
     "execution_count": 81,
     "metadata": {},
     "output_type": "execute_result"
    },
    {
     "data": {
      "image/png": "[encoded data removed]",
      "text/plain": [
       "<matplotlib.figure.Figure at 0x204d81d0>"
      ]
     },
     "metadata": {},
     "output_type": "display_data"
    }
   ],
   "source": [
    "import matplotlib.ticker as ticker\n",
    "#np.arange(len(titanic_df['AgeBucket'].unique()))\n",
    "\n",
    "#plt.bar(np.arange(len(titanic_df['AgeBucket'].unique())), titanic_df['AgeBucket'].value_counts())\n",
    "\n",
    "# titanic_df['AgeBucket'].value_counts()\n",
    "# customer sort the Age Series\n",
    "dict_sort = {'0-6 yrs': 1, \n",
    "             '7-20 yrs': 2,\n",
    "            '21-35 yrs': 3,\n",
    "            '36-50 yrs': 4,\n",
    "            '>50 yrs': 5}\n",
    "dict_agebucket = titanic_cleaned_df['AgeBucket'].value_counts().to_dict()\n",
    "age_bucket = []\n",
    "\n",
    "# http://stackoverflow.com/questions/16475384/rename-a-dictionary-key\n",
    "for k in dict_sort.keys():\n",
    "    dict_agebucket[dict_sort[k]] = dict_agebucket.pop(k)\n",
    "\n",
    "for k in sorted(dict_agebucket.keys()):\n",
    "    age_bucket.append(dict_agebucket[k])  \n",
    "labels = []\n",
    "labels.extend(sorted(dict_sort.keys(), key=lambda x: x[1]))\n",
    "\n",
    "fig, ax = plt.subplots()\n",
    "\n",
    "# http://stackoverflow.com/questions/17158382/centering-x-tick-labels-between-tick-marks-in-matplotlib\n",
    "# change the x-axis ticks\n",
    "ax.xaxis.set_major_formatter(ticker.NullFormatter())\n",
    "ax.xaxis.set_minor_locator(ticker.FixedLocator(np.arange(1.5,len(dict_sort)+1,1)))\n",
    "\n",
    "ax.xaxis.set_minor_formatter(ticker.FixedFormatter(labels))\n",
    "ax.set_title('Frequency distribution of Ages of passengers')\n",
    "\n",
    "plt.bar(sorted(dict_sort.values()), age_bucket)\n",
    "\n",
    "# http://stackoverflow.com/questions/9101497/matplotlib-bar-graph-x-axis-wont-plot-string-values\n",
    "#plt.xticks(sorted(dict_sort.values()), labels)              "
   ]
  },
  {
   "cell_type": "code",
   "execution_count": 27,
   "metadata": {
    "collapsed": true
   },
   "outputs": [],
   "source": [
    "def custom_sort(agebucket):\n",
    "    \"\"\"\n",
    "    Custom sort the AgeBucket df\n",
    "    Input: agebucket df\n",
    "    Ouput: custom sorted agebucket df\n",
    "    \"\"\"\n",
    "    custom_dict = {'0-6 yrs': 1, \n",
    "             '7-20 yrs': 2,\n",
    "            '21-35 yrs': 3,\n",
    "            '36-50 yrs': 4,\n",
    "            '>50 yrs': 5}\n",
    "    agebucket['rank'] = agebucket['AgeBucket'].map(custom_dict)\n",
    "    agebucket.sort_values(['Survived', 'rank'], ascending=True, inplace=True)\n",
    "    return agebucket.drop('rank', axis=1)"
   ]
  },
  {
   "cell_type": "code",
   "execution_count": 28,
   "metadata": {
    "collapsed": false
   },
   "outputs": [],
   "source": [
    "from matplotlib.ticker import FuncFormatter\n",
    "def groupby_plot(df, group_field, field, pos, title, axes):\n",
    "    \"\"\"\n",
    "    Take a dataframe, groupby group_field and unstack the grouped df\n",
    "    before plotting the bar chart by its position\n",
    "    \"\"\"\n",
    "    label_list = []\n",
    "    new_df = df[[group_field, field]]\n",
    "    new_df_grouped = new_df.groupby(group_field)[field].value_counts().sort_index(level=[0,1]) / len(new_df)\n",
    "    '''\n",
    "    if field == 'AgeBucket':\n",
    "        custom_df = new_df_grouped.reset_index(name='Prop')\n",
    "        new_df_grouped = custom_sort(custom_df)\n",
    "        new_df_grouped.reset_index()\n",
    "        ax = new_df_grouped.groupby(group_field).plot(ax=axes[pos], kind='bar', stacked=False, title=title, rot=0)\n",
    "    '''\n",
    "    for idx, label in enumerate(list(new_df_grouped.index)):\n",
    "#        print label\n",
    "        label_list.append(new_df_grouped.ix[idx])\n",
    "#    print label_list\n",
    "#    label_list = (new_df.groupby(group_field)[field].value_counts() / len(new_df)).tolist()\n",
    "\n",
    "    # as the unstack() operation resulted in elements being access in column major ordering\n",
    "    # I reshaped the order for the label list\n",
    "    label_array = np.array(label_list)\n",
    "    r, c = new_df_grouped.unstack().shape\n",
    "    label_array = label_array.reshape(c, r, order='F')\n",
    "\n",
    "    # http://pbpython.com/simple-graphing-pandas.html\n",
    "    ax = new_df_grouped.unstack().plot(ax=axes[pos], kind='bar', stacked=False, title=title, rot=0)\n",
    "    # http://stackoverflow.com/questions/31357611/format-y-axis-as-percent\n",
    "    ax.yaxis.set_major_formatter(FuncFormatter(lambda y, _: '{:.0%}'. format(y)))\n",
    "    for rect, label in zip(ax.patches, label_array.flatten()):\n",
    "        ax.text(rect.get_x() + rect.get_width()/2, rect.get_height()+0.003, '{:.0%}'.format(label), \n",
    "                ha='center', va='bottom', fontsize=8 )\n",
    "#        ax.annotate(str(rect.get_height()), xy=(rect.get_x(), rect.get_height() + 0.005), \n",
    "#                    ha='center', va='center', textcoords='offset points')\n"
   ]
  },
  {
   "cell_type": "code",
   "execution_count": 82,
   "metadata": {
    "collapsed": false
   },
   "outputs": [
    {
     "data": {
      "text/plain": [
       "<matplotlib.text.Text at 0x20a27278>"
      ]
     },
     "execution_count": 82,
     "metadata": {},
     "output_type": "execute_result"
    },
    {
     "data": {
      "image/png": "[encoded data removed]",
      "text/plain": [
       "<matplotlib.figure.Figure at 0xc3d9be0>"
      ]
     },
     "metadata": {},
     "output_type": "display_data"
    }
   ],
   "source": [
    "titles = ['Distribution by sex', 'Distribution by class', 'Distribution by age groups']\n",
    "fields = ['Sex', 'Pclass', 'AgeBucket']\n",
    "fig, axes = plt.subplots(nrows=1, ncols=3, figsize=(16, 6))\n",
    "for idx, title in enumerate(titles):\n",
    "    groupby_plot(titanic_cleaned_df, 'Survived', fields[idx], idx, title, axes)\n",
    "axes[0].set_ylabel('Frequency (%)')\n",
    "    \n",
    "\n",
    "#groupby_plot(titanic_df, 'Survived', 'Pclass', 1)\n",
    "#groupby_plot(titanic_df, 'Survived', 'AgeBucket', 2)"
   ]
  },
  {
   "cell_type": "markdown",
   "metadata": {},
   "source": [
    "Scatter plot between passenger Fare and Age"
   ]
  },
  {
   "cell_type": "code",
   "execution_count": 95,
   "metadata": {
    "collapsed": false
   },
   "outputs": [
    {
     "data": {
      "text/plain": [
       "<matplotlib.text.Text at 0x220229e8>"
      ]
     },
     "execution_count": 95,
     "metadata": {},
     "output_type": "execute_result"
    },
    {
     "data": {
      "image/png": "[encoded data removed]",
      "text/plain": [
       "<matplotlib.figure.Figure at 0x2231c710>"
      ]
     },
     "metadata": {},
     "output_type": "display_data"
    }
   ],
   "source": [
    "axes = plt.gca()\n",
    "axes.set_ylim([titanic_cleaned_df['Fare'].min(), titanic_cleaned_df['Fare'].max() + 50])\n",
    "plt.scatter(titanic_cleaned_df['Age'], titanic_cleaned_df['Fare'])\n",
    "plt.title('Scatter plot of Age vs Fare')\n",
    "plt.xlabel('Age')\n",
    "plt.ylabel('Fare')"
   ]
  },
  {
   "cell_type": "markdown",
   "metadata": {},
   "source": [
    "The plot shows no trend whatsoever; this suggests that there maybe no relationship between Fare and Age. Most of the Fare prices across the ages is below 100"
   ]
  },
  {
   "cell_type": "markdown",
   "metadata": {},
   "source": [
    "Chi square test of independence to test for association between travelling in a certain class and surviving\n",
    "\n",
    "The null hypothesis is that there is no association between survival and travelling in a specific class\n",
    "\n",
    "The alternate hypothesiss is that there is an association between survival and travelling in a specific class"
   ]
  },
  {
   "cell_type": "code",
   "execution_count": 98,
   "metadata": {
    "collapsed": false
   },
   "outputs": [],
   "source": [
    "class_and_survived_array = titanic_cleaned_df.groupby('Survived')['Pclass'].value_counts().unstack().as_matrix()"
   ]
  },
  {
   "cell_type": "code",
   "execution_count": 99,
   "metadata": {
    "collapsed": false
   },
   "outputs": [
    {
     "name": "stdout",
     "output_type": "stream",
     "text": [
      "chi2: 92.9014172114, p-value: 6.70986174976e-21, DoF: 2\n"
     ]
    }
   ],
   "source": [
    "# http://connor-johnson.com/2014/12/31/the-pearson-chi-squared-test-with-python-and-r/\n",
    "import scipy.stats\n",
    "chi2, p, ddof, expected = scipy.stats.chi2_contingency(class_and_survived_array)\n",
    "print 'chi2: {}, p-value: {}, DoF: {}'.format(chi2, p, ddof)"
   ]
  },
  {
   "cell_type": "markdown",
   "metadata": {},
   "source": [
    "At a 5% level of significance, the p-value is very significant; this suggests that there may be an association between the two variables: Survived and Pclass. However, despite having a significant p-value, we may need to perform a post-hoc test to determine whether there is significance across each of the 3 Pclass levels.\n",
    "    "
   ]
  },
  {
   "cell_type": "markdown",
   "metadata": {
    "collapsed": true
   },
   "source": [
    "### 5) Findings"
   ]
  },
  {
   "cell_type": "markdown",
   "metadata": {
    "collapsed": true
   },
   "source": [
    "Some characteristics of survivors were:\n",
    "\n",
    "1) They were women and children regardless of economic status<br>\n",
    "2) Most survivors (male, female, adult, children) travelled 1st class<br>\n",
    "3) Survivors were young between 21-35 years of age<br>\n",
    "\n",
    "Some specific observations:\n",
    "\n",
    "1) Overall, 290(40%) passengers survived\n",
    "\n",
    "2) Among the survivors, (122)17% were in class 1, the highest among all the classes, while the worst affected class is class 3, with 270(38%) casualities.\n",
    "\n",
    "3) Among those who survived 197(28%) were women and 93(13%) were men. In the group of non-survivors, 360(50%) were men and 64(9%) were women.\n",
    "\n",
    "4) Within the age buckets, the group in the 21-35 yrs category had the maximum survivors 125(18%) and maximum non-survivors 192(27%)\n",
    "\n",
    "5) The ratio of female survivors to female non-survivors is 3.1: 1 or roughly 3 survivors for 1 non-survivor, whereas, among the male the ratio of non-survivors to survivors is an astounding 3.9: 1, that is, 4 non-survivors for every survivor.\n",
    "\n",
    "The limitations in my exploratory analysis maybe impacted by the presence of missing Age values that were removed, the presence of outliers in the Fare variable, and the fact that no rigourous statistical tests were performed to confirm association between Survival and the other features. Also, according to [Titanic facts](http://www.titanic-facts.com/passengers-on-the-titanic.html), there were 2228 passengers, which included 885 crew members, but this dataset has only 891 passenger records; this too may impact the overall analysis"
   ]
  },
  {
   "cell_type": "markdown",
   "metadata": {},
   "source": [
    "### 6) Next steps\n",
    "It will be interesting to build different statistical models to understand how good they are in predicting survival and \n",
    "in recognizing their respective limitations, given the nature of the dataset; it will also help me understand which features play an important role in deciding survivial, which the exploratory analsysis helped provide some clues."
   ]
  },
  {
   "cell_type": "markdown",
   "metadata": {},
   "source": [
    "### 6) Resources\n",
    "\n",
    "[rename a dictionary key](http://stackoverflow.com/questions/16475384/rename-a-dictionary-key)<br>\n",
    "[centering xtick labels](http://stackoverflow.com/questions/17158382/centering-x-tick-labels-between-tick-marks-in-matplotlib)<br>\n",
    "[replace numeric labels with string labels](http://stackoverflow.com/questions/9101497/matplotlib-bar-graph-x-axis-wont-plot-string-values)<br>\n",
    "[unstack pandas df before plotting](http://pbpython.com/simple-graphing-pandas.html)<br>\n",
    "[format y-axis as a percent](http://stackoverflow.com/questions/31357611/format-y-axis-as-percent)<br>\n",
    "[annotate a bar plot](http://stackoverflow.com/questions/25447700/annotate-bars-with-values-on-pandas-bar-plots)<br>\n",
    "[multiple plots](http://matplotlib.org/users/pyplot_tutorial.html)<br>\n",
    "[chi-square test of independence](http://connor-johnson.com/2014/12/31/the-pearson-chi-squared-test-with-python-and-r/)<br>"
   ]
  }
 ],
 "metadata": {
  "kernelspec": {
   "display_name": "Python 2",
   "language": "python",
   "name": "python2"
  },
  "language_info": {
   "codemirror_mode": {
    "name": "ipython",
    "version": 2
   },
   "file_extension": ".py",
   "mimetype": "text/x-python",
   "name": "python",
   "nbconvert_exporter": "python",
   "pygments_lexer": "ipython2",
   "version": "2.7.10"
  }
 },
 "nbformat": 4,
 "nbformat_minor": 0
}
